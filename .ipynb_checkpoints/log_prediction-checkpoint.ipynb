{
 "cells": [
  {
   "cell_type": "code",
   "execution_count": 1,
   "id": "a0dc2b30-372e-4d57-a705-fd1d26d12a61",
   "metadata": {},
   "outputs": [
    {
     "name": "stdout",
     "output_type": "stream",
     "text": [
      "\u001b[31mERROR: Could not find a version that satisfies the requirement sqlite3 (from versions: none)\u001b[0m\u001b[31m\n",
      "\u001b[0m\u001b[31mERROR: No matching distribution found for sqlite3\u001b[0m\u001b[31m\n",
      "\u001b[0mNote: you may need to restart the kernel to use updated packages.\n"
     ]
    }
   ],
   "source": [
    "pip install sqlite3"
   ]
  },
  {
   "cell_type": "code",
   "execution_count": 1,
   "id": "e6c99d36-d007-49d6-b55e-368411a51692",
   "metadata": {},
   "outputs": [],
   "source": [
    "import sqlite3\n",
    "\n",
    "# Connect to SQLite database (creates the file if it doesn't exist)\n",
    "conn = sqlite3.connect('predictions.db')\n",
    "\n",
    "# Create a cursor object\n",
    "cursor = conn.cursor()\n",
    "\n",
    "# Create the predictions table\n",
    "cursor.execute('''\n",
    "CREATE TABLE IF NOT EXISTS predictions (\n",
    "    id INTEGER PRIMARY KEY AUTOINCREMENT,\n",
    "    duration REAL,\n",
    "    stops INTEGER,\n",
    "    days_left INTEGER,\n",
    "    departure_time INTEGER,\n",
    "    arrival_time INTEGER,\n",
    "    airline_air_India INTEGER,\n",
    "    airline_GO_FIRST INTEGER,\n",
    "    airline_Indigo INTEGER,\n",
    "    airline_SpiceJet INTEGER,\n",
    "    airline_Vistara INTEGER,\n",
    "    source_city_Chennai INTEGER,\n",
    "    source_city_Delhi INTEGER,\n",
    "    source_city_Hyderabad INTEGER,\n",
    "    source_city_Kolkata INTEGER,\n",
    "    source_city_Mumbai INTEGER,\n",
    "    destination_city_Chennai INTEGER,\n",
    "    destination_city_Delhi INTEGER,\n",
    "    destination_city_Hyderabad INTEGER,\n",
    "    destination_city_Kolkata INTEGER,\n",
    "    destination_city_Mumbai INTEGER,\n",
    "    class_encoded INTEGER,\n",
    "    predicted_price FLOAT,\n",
    "    timestamp DATETIME DEFAULT CURRENT_TIMESTAMP\n",
    ")\n",
    "''')\n",
    "\n",
    "# Commit and close the connection\n",
    "conn.commit()\n",
    "conn.close()\n"
   ]
  },
  {
   "cell_type": "code",
   "execution_count": 3,
   "id": "257a1818-b415-4a3d-aa68-6374433e9003",
   "metadata": {},
   "outputs": [],
   "source": [
    "import sqlite3\n",
    "import numpy as np\n",
    "from datetime import datetime\n",
    "\n",
    "# Load your trained model\n",
    "import joblib\n",
    "model = joblib.load('rf_model.pkl')\n",
    "\n",
    "# Function to save prediction result into the database\n",
    "def save_to_database(duration, stops_encoded, days_left,departure_time_encoded,arrival_time_encoded,airline_air_India,airline_GO_FIRST,airline_Indigo,airline_SpiceJet,airline_Vistara,source_city_Chennai,source_city_Delhi,source_city_Hyderabad,source_city_Kolkata,source_city_Mumbai,destination_city_Chennai,destination_city_Delhi,destination_city_Hyderabad,destination_city_Kolkata,destination_city_Mumbai,class_encoded,predicted_price):\n",
    "    conn = sqlite3.connect('predictions.db')  # Connect to the database\n",
    "    cursor = conn.cursor()\n",
    "    \n",
    "    # Insert prediction result into the table\n",
    "    cursor.execute('''\n",
    "        INSERT INTO predictions (duration, stops, days_left,departure_time,arrival_time,airline_air_India,airline_GO_FIRST,airline_Indigo,airline_SpiceJet,airline_Vistara,source_city_Chennai,source_city_Delhi,source_city_Hyderabad,source_city_Kolkata,source_city_Mumbai,destination_city_Chennai,destination_city_Delhi,destination_city_Hyderabad,destination_city_Kolkata,destination_city_Mumbai,class_encoded,predicted_price)\n",
    "        VALUES (?, ?, ?, ?,?, ?, ?, ?,?, ?, ?, ?,?, ?, ?, ?,?, ?, ?, ?,?,?)\n",
    "    ''', (duration, stops_encoded, days_left, departure_time_encoded,arrival_time_encoded,airline_air_India,airline_GO_FIRST,airline_Indigo,airline_SpiceJet,airline_Vistara,source_city_Chennai,source_city_Delhi,source_city_Hyderabad,source_city_Kolkata,source_city_Mumbai,destination_city_Chennai,destination_city_Delhi,destination_city_Hyderabad,destination_city_Kolkata,destination_city_Mumbai,class_encoded,predicted_price))\n",
    "    \n",
    "    conn.commit()  # Save changes\n",
    "    conn.close()   # Close connection\n",
    "\n",
    "# Define the prediction function\n",
    "def predict_ticket_price(duration, stops_encoded, days_left, departure_time_encoded, arrival_time_encoded, airline_air_India,airline_GO_FIRST,airline_Indigo, airline_SpiceJet,airline_Vistara,source_city_Chennai,source_city_Delhi,source_city_Hyderabad,source_city_Kolkata,source_city_Mumbai,destination_city_Chennai,destination_city_Delhi,destination_city_Hyderabad,destination_city_Kolkata,destination_city_Mumbai,class_encoded):\n",
    "    # Combine the inputs into a single array\n",
    "    input_features = np.array([\n",
    "        duration,\n",
    "        stops_encoded,\n",
    "        days_left,\n",
    "        departure_time_encoded,\n",
    "        arrival_time_encoded,\n",
    "        airline_air_India,\n",
    "        airline_GO_FIRST,\n",
    "        airline_Indigo,\n",
    "        airline_SpiceJet,\n",
    "        airline_Vistara,\n",
    "        source_city_Chennai,\n",
    "        source_city_Delhi,\n",
    "        source_city_Hyderabad,\n",
    "        source_city_Kolkata,\n",
    "        source_city_Mumbai,\n",
    "        destination_city_Chennai,\n",
    "        destination_city_Delhi,\n",
    "        destination_city_Hyderabad,\n",
    "        destination_city_Kolkata,\n",
    "        destination_city_Mumbai,\n",
    "        class_encoded\n",
    "    ]).reshape(1, -1)\n",
    "\n",
    "    # Get the prediction from the model\n",
    "    predicted_price = model.predict(input_features)\n",
    "\n",
    "    # Save the result into the database\n",
    "    save_to_database(duration, stops_encoded, days_left,departure_time_encoded,arrival_time_encoded,airline_air_India,airline_GO_FIRST,airline_Indigo,airline_SpiceJet,airline_Vistara,source_city_Chennai,source_city_Delhi,source_city_Hyderabad,source_city_Kolkata,source_city_Mumbai,destination_city_Chennai,destination_city_Delhi,destination_city_Hyderabad,destination_city_Kolkata,destination_city_Mumbai,class_encoded,predicted_price)\n",
    "\n",
    "    # Return the predicted ticket price\n",
    "    return f\"Predicted Ticket Price: ${predicted_price[0]:.2f}\"\n",
    "\n"
   ]
  },
  {
   "cell_type": "code",
   "execution_count": 4,
   "id": "f9cafb6f-95a0-4307-b726-ee5b9964611b",
   "metadata": {},
   "outputs": [],
   "source": [
    "import gradio as gr\n",
    "\n",
    "# Define the Gradio interface\n",
    "interface = gr.Interface(\n",
    "    fn=predict_ticket_price,  # Prediction function\n",
    "    inputs=[\n",
    "        gr.Number(label=\"Flight Duration (hours)\"),\n",
    "        gr.Dropdown([0,1,2], label=\"Number of Stops [Zero(0), One(1), Two/more(2)]\"),\n",
    "        gr.Number(label=\"Days Left to Flight\"),\n",
    "        gr.Dropdown([0,1,2,3,4,5], label=\"Departure Time [Early_Morning(0), Morning(1), Afternoon(2), Evening(3), Night(4), Late_Night(5)]\"),\n",
    "        gr.Dropdown([0,1,2,3,4,5], label=\"Arrival Time [Early_Morning(0), Morning(1), Afternoon(2), Evening(3), Night(4), Late_Night(5)]\"),\n",
    "        gr.Dropdown([0,1], label=\"airline air_India [No(0), Yes(1)]\"),\n",
    "        gr.Dropdown([0,1], label=\"airline GO_FIRST [No(0), Yes(1)]\"),\n",
    "        gr.Dropdown([0,1], label=\"airline Indigo [No(0), Yes(1)]\"),\n",
    "        gr.Dropdown([0,1], label=\"airline SpiceJet [No(0), Yes(1)]\"),\n",
    "        gr.Dropdown([0,1], label=\"airline Vistara [No(0), Yes(1)]\"),\n",
    "        gr.Dropdown([0,1], label=\"Source City to Chennai [No(0), Yes(1)]\"),\n",
    "        gr.Dropdown([0,1], label=\"Source City to Delhi [No(0), Yes(1)]\"),\n",
    "        gr.Dropdown([0,1], label=\"Source City to Hyderabad [No(0), Yes(1)]\"),\n",
    "        gr.Dropdown([0,1], label=\"Source City to Kolkata [No(0), Yes(1)]\"),\n",
    "        gr.Dropdown([0,1], label=\"Source City to Mumbai [No(0), Yes(1)]\"),\n",
    "        gr.Dropdown([0,1], label=\"Destination City to Chennai [No(0), Yes(1)]\"),\n",
    "        gr.Dropdown([0,1], label=\"Destination City to Delhi [No(0), Yes(1)]\"),\n",
    "        gr.Dropdown([0,1], label=\"Destination City to Hyderabad [No(0), Yes(1)]\"),\n",
    "        gr.Dropdown([0,1], label=\"Destination City to Kolkata [No(0), Yes(1)]\"),\n",
    "        gr.Dropdown([0,1], label=\"Destination City to Mumbai [No(0), Yes(1)]\"),\n",
    "        gr.Dropdown([0,1], label=\"Class [Economy(0), Business(1)]\"),\n",
    "    ],\n",
    "    outputs=\"text\",\n",
    "    title=\"Flight Ticket Price Prediction\",\n",
    "    description=\"Enter flight details to predict the ticket price.\"\n",
    ")"
   ]
  },
  {
   "cell_type": "code",
   "execution_count": null,
   "id": "0028b3fe-0217-4d1c-962e-3a119fa7745c",
   "metadata": {},
   "outputs": [
    {
     "name": "stdout",
     "output_type": "stream",
     "text": [
      "* Running on local URL:  http://127.0.0.1:7860\n",
      "\n",
      "To create a public link, set `share=True` in `launch()`.\n"
     ]
    },
    {
     "data": {
      "text/html": [
       "<div><iframe src=\"http://127.0.0.1:7860/\" width=\"100%\" height=\"500\" allow=\"autoplay; camera; microphone; clipboard-read; clipboard-write;\" frameborder=\"0\" allowfullscreen></iframe></div>"
      ],
      "text/plain": [
       "<IPython.core.display.HTML object>"
      ]
     },
     "metadata": {},
     "output_type": "display_data"
    },
    {
     "name": "stderr",
     "output_type": "stream",
     "text": [
      "/opt/anaconda3/lib/python3.12/site-packages/sklearn/base.py:493: UserWarning: X does not have valid feature names, but RandomForestRegressor was fitted with feature names\n",
      "  warnings.warn(\n",
      "/opt/anaconda3/lib/python3.12/site-packages/sklearn/base.py:493: UserWarning: X does not have valid feature names, but RandomForestRegressor was fitted with feature names\n",
      "  warnings.warn(\n"
     ]
    }
   ],
   "source": [
    "# Jalankan\n",
    "interface.launch(debug=True)"
   ]
  },
  {
   "cell_type": "code",
   "execution_count": null,
   "id": "5907719a-4969-4517-ad7b-e27ff3e88182",
   "metadata": {},
   "outputs": [],
   "source": []
  }
 ],
 "metadata": {
  "kernelspec": {
   "display_name": "Python 3 (ipykernel)",
   "language": "python",
   "name": "python3"
  },
  "language_info": {
   "codemirror_mode": {
    "name": "ipython",
    "version": 3
   },
   "file_extension": ".py",
   "mimetype": "text/x-python",
   "name": "python",
   "nbconvert_exporter": "python",
   "pygments_lexer": "ipython3",
   "version": "3.12.4"
  }
 },
 "nbformat": 4,
 "nbformat_minor": 5
}
